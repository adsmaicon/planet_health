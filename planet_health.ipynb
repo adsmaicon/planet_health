{
  "nbformat": 4,
  "nbformat_minor": 0,
  "metadata": {
    "colab": {
      "name": "Copy of maps hackthon.ipynb",
      "provenance": [],
      "collapsed_sections": []
    },
    "kernelspec": {
      "name": "python3",
      "display_name": "Python 3"
    }
  },
  "cells": [
    {
      "cell_type": "code",
      "metadata": {
        "id": "BlKThsER7X1a",
        "colab_type": "code",
        "colab": {}
      },
      "source": [
        "pip install folium"
      ],
      "execution_count": 0,
      "outputs": []
    },
    {
      "cell_type": "code",
      "metadata": {
        "id": "CyKwJXeXq9hF",
        "colab_type": "code",
        "colab": {}
      },
      "source": [
        "pip install geopy"
      ],
      "execution_count": 0,
      "outputs": []
    },
    {
      "cell_type": "code",
      "metadata": {
        "id": "g6Cis7787fZ8",
        "colab_type": "code",
        "colab": {}
      },
      "source": [
        "import folium\n",
        "import pandas as pd\n",
        "from folium.plugins import HeatMap\n",
        "from geopy.geocoders import Nominatim"
      ],
      "execution_count": 0,
      "outputs": []
    },
    {
      "cell_type": "code",
      "metadata": {
        "id": "PTSdmZDWEzRw",
        "colab_type": "code",
        "colab": {}
      },
      "source": [
        "def city(n):\n",
        "    geolocator = Nominatim(user_agent=\"Planet Health\")\n",
        "    location = geolocator.geocode(n)\n",
        "    \n",
        "    if location is None:\n",
        "        return [\"\", \"\"]\n",
        "\n",
        "    lt = location.latitude if location.latitude is not None else '' if location is not None else ''\n",
        "    lo = location.longitude if location.longitude is not None else '' if location is not None else ''\n",
        "    return [lt, lo]"
      ],
      "execution_count": 0,
      "outputs": []
    },
    {
      "cell_type": "code",
      "metadata": {
        "id": "CLKSpwWCATHy",
        "colab_type": "code",
        "colab": {}
      },
      "source": [
        "df_voos = pd.read_csv(\"VRA_102019.csv\", delimiter=\";\", usecols=['sg_icao_origem', 'sg_icao_destino', 'dt_partida_real'])\n",
        "df_aeroportos = pd.read_csv(\"aeroportos.csv\", delimiter=\";\")\n",
        "df_voos = df_voos.rename(columns={\"sg_icao_origem\":\"sg_origem\", \"sg_icao_destino\":\"sg_destino\", \"dt_partida_real\":\"data\"})"
      ],
      "execution_count": 0,
      "outputs": []
    },
    {
      "cell_type": "code",
      "metadata": {
        "id": "nB2Xssuub6BP",
        "colab_type": "code",
        "colab": {}
      },
      "source": [
        "df_origen = df_aeroportos.rename(columns={\"Sigla OACI\":\"sg_origem\", \"Descrição\":\"desc\", \"Cidade\":\"cidade_origem\", \"UF\":\"uf\", \"País\":\"pais_origem\", \"Continente\":\"continente\"})\n",
        "result = df_voos.merge(df_origen, on='sg_origem')\n",
        "result = result[['sg_origem', 'cidade_origem', 'pais_origem', 'sg_destino', 'data']]"
      ],
      "execution_count": 0,
      "outputs": []
    },
    {
      "cell_type": "code",
      "metadata": {
        "id": "EpkXcpqIQJSd",
        "colab_type": "code",
        "colab": {}
      },
      "source": [
        "df_destino = df_aeroportos.rename(columns={\"Sigla OACI\":\"sg_destino\", \"Descrição\":\"desc\", \"Cidade\":\"cidade_destino\", \"UF\":\"uf\", \"País\":\"pais_destino\", \"Continente\":\"continente\"})\n",
        "df_destino.head()\n",
        "result = result.merge(df_destino, on='sg_destino')"
      ],
      "execution_count": 0,
      "outputs": []
    },
    {
      "cell_type": "code",
      "metadata": {
        "id": "x-_6NLh_T6Tv",
        "colab_type": "code",
        "colab": {}
      },
      "source": [
        "result = result[['sg_origem', 'cidade_origem', 'pais_origem', 'sg_destino', 'cidade_destino', 'pais_destino', 'data']]\n",
        "result['data'] = result['data'].str[:10]"
      ],
      "execution_count": 0,
      "outputs": []
    },
    {
      "cell_type": "code",
      "metadata": {
        "id": "xfO-9Rw5UF_7",
        "colab_type": "code",
        "colab": {}
      },
      "source": [
        "voos_dia = pd.DataFrame({'voos' : result.groupby([\"cidade_origem\", \"cidade_destino\", \"data\"]).size()}).reset_index()\n",
        "voos_dia = voos_dia.sort_values(by=['data']).reset_index()\n"
      ],
      "execution_count": 0,
      "outputs": []
    },
    {
      "cell_type": "code",
      "metadata": {
        "id": "STSa5dRzsZMu",
        "colab_type": "code",
        "colab": {
          "base_uri": "https://localhost:8080/",
          "height": 221
        },
        "outputId": "a1f635a5-5b4b-44d7-f1d6-4c85ca978f79"
      },
      "source": [
        "geolocator = Nominatim(user_agent=\"Planet Health\")\n",
        "vo = pd.DataFrame(data=voos_dia['cidade_destino'].unique())\n",
        "ivo = vo[0].map(lambda x: city(x))\n",
        "ivo"
      ],
      "execution_count": 387,
      "outputs": [
        {
          "output_type": "execute_result",
          "data": {
            "text/plain": [
              "0       [13.8000382, -88.9140683]\n",
              "1       [-23.4430602, -46.524459]\n",
              "2        [40.4167047, -3.7035825]\n",
              "3          [-22.90556, -47.06083]\n",
              "4       [-2.6344567, -56.7319324]\n",
              "                  ...            \n",
              "207     [-2.9147515, -41.7661953]\n",
              "208     [-21.8377536, -48.492853]\n",
              "209    [-20.5531437, -48.5697509]\n",
              "210        [46.603354, 1.8883335]\n",
              "211      [45.7933982, 18.2633066]\n",
              "Name: 0, Length: 212, dtype: object"
            ]
          },
          "metadata": {
            "tags": []
          },
          "execution_count": 387
        }
      ]
    },
    {
      "cell_type": "code",
      "metadata": {
        "id": "gXSZ4Uic6Ir5",
        "colab_type": "code",
        "colab": {}
      },
      "source": [
        ""
      ],
      "execution_count": 0,
      "outputs": []
    },
    {
      "cell_type": "code",
      "metadata": {
        "id": "r8R-LP13AQer",
        "colab_type": "code",
        "colab": {}
      },
      "source": [
        "mapa = folium.Map(location=[location.latitude, location.longitude])\n",
        "# mapa = folium.Map([48., 5.], tiles='stamentoner', zoom_start=6)\n",
        "# HeatMap(r).add_to(mapa)\n",
        "mapa"
      ],
      "execution_count": 0,
      "outputs": []
    }
  ]
}